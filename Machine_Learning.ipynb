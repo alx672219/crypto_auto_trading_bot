{
  "nbformat": 4,
  "nbformat_minor": 0,
  "metadata": {
    "colab": {
      "name": "Machine Learning.ipynb",
      "provenance": [],
      "collapsed_sections": []
    },
    "kernelspec": {
      "name": "python3",
      "display_name": "Python 3"
    },
    "language_info": {
      "name": "python"
    }
  },
  "cells": [
    {
      "cell_type": "code",
      "execution_count": null,
      "metadata": {
        "colab": {
          "base_uri": "https://localhost:8080/"
        },
        "id": "gziuiz295lZo",
        "outputId": "e20aebf2-384d-4532-b165-622f8bebe584"
      },
      "outputs": [
        {
          "output_type": "stream",
          "name": "stdout",
          "text": [
            "Looking in indexes: https://pypi.org/simple, https://us-python.pkg.dev/colab-wheels/public/simple/\n",
            "Collecting pybithumb\n",
            "  Downloading pybithumb-1.0.21-py3-none-any.whl (9.9 kB)\n",
            "Collecting datetime\n",
            "  Downloading DateTime-4.5-py2.py3-none-any.whl (52 kB)\n",
            "\u001b[K     |████████████████████████████████| 52 kB 465 kB/s \n",
            "\u001b[?25hRequirement already satisfied: pandas in /usr/local/lib/python3.7/dist-packages (from pybithumb) (1.3.5)\n",
            "Requirement already satisfied: bs4 in /usr/local/lib/python3.7/dist-packages (from pybithumb) (0.0.1)\n",
            "Collecting websockets\n",
            "  Downloading websockets-10.3-cp37-cp37m-manylinux_2_5_x86_64.manylinux1_x86_64.manylinux_2_12_x86_64.manylinux2010_x86_64.whl (112 kB)\n",
            "\u001b[K     |████████████████████████████████| 112 kB 15.9 MB/s \n",
            "\u001b[?25hRequirement already satisfied: html5lib in /usr/local/lib/python3.7/dist-packages (from pybithumb) (1.0.1)\n",
            "Requirement already satisfied: requests in /usr/local/lib/python3.7/dist-packages (from pybithumb) (2.23.0)\n",
            "Requirement already satisfied: beautifulsoup4 in /usr/local/lib/python3.7/dist-packages (from bs4->pybithumb) (4.6.3)\n",
            "Requirement already satisfied: pytz in /usr/local/lib/python3.7/dist-packages (from datetime->pybithumb) (2022.1)\n",
            "Collecting zope.interface\n",
            "  Downloading zope.interface-5.4.0-cp37-cp37m-manylinux2010_x86_64.whl (251 kB)\n",
            "\u001b[K     |████████████████████████████████| 251 kB 34.8 MB/s \n",
            "\u001b[?25hRequirement already satisfied: six>=1.9 in /usr/local/lib/python3.7/dist-packages (from html5lib->pybithumb) (1.15.0)\n",
            "Requirement already satisfied: webencodings in /usr/local/lib/python3.7/dist-packages (from html5lib->pybithumb) (0.5.1)\n",
            "Requirement already satisfied: numpy>=1.17.3 in /usr/local/lib/python3.7/dist-packages (from pandas->pybithumb) (1.21.6)\n",
            "Requirement already satisfied: python-dateutil>=2.7.3 in /usr/local/lib/python3.7/dist-packages (from pandas->pybithumb) (2.8.2)\n",
            "Requirement already satisfied: idna<3,>=2.5 in /usr/local/lib/python3.7/dist-packages (from requests->pybithumb) (2.10)\n",
            "Requirement already satisfied: certifi>=2017.4.17 in /usr/local/lib/python3.7/dist-packages (from requests->pybithumb) (2022.6.15)\n",
            "Requirement already satisfied: urllib3!=1.25.0,!=1.25.1,<1.26,>=1.21.1 in /usr/local/lib/python3.7/dist-packages (from requests->pybithumb) (1.24.3)\n",
            "Requirement already satisfied: chardet<4,>=3.0.2 in /usr/local/lib/python3.7/dist-packages (from requests->pybithumb) (3.0.4)\n",
            "Requirement already satisfied: setuptools in /usr/local/lib/python3.7/dist-packages (from zope.interface->datetime->pybithumb) (57.4.0)\n",
            "Installing collected packages: zope.interface, websockets, datetime, pybithumb\n",
            "Successfully installed datetime-4.5 pybithumb-1.0.21 websockets-10.3 zope.interface-5.4.0\n"
          ]
        }
      ],
      "source": [
        "!pip install pybithumb"
      ]
    },
    {
      "cell_type": "code",
      "source": [
        "import pybithumb"
      ],
      "metadata": {
        "id": "VQL3b8Cm564k"
      },
      "execution_count": null,
      "outputs": []
    },
    {
      "cell_type": "code",
      "source": [
        "crypto = \"ETH\""
      ],
      "metadata": {
        "id": "Yz2M04rNBw4V"
      },
      "execution_count": null,
      "outputs": []
    },
    {
      "cell_type": "code",
      "source": [
        "# Get the last 7 days (168 hours) of Ethereum data\n",
        "df = pybithumb.get_candlestick(crypto, chart_intervals=\"1h\")\n",
        "df = df.tail(168)\n",
        "df"
      ],
      "metadata": {
        "colab": {
          "base_uri": "https://localhost:8080/",
          "height": 450
        },
        "id": "BE_cItwU565q",
        "outputId": "39fcb4ad-2d30-40a7-b696-04e927c77f83"
      },
      "execution_count": null,
      "outputs": [
        {
          "output_type": "execute_result",
          "data": {
            "text/plain": [
              "                          open       high        low      close       volume\n",
              "time                                                                        \n",
              "2022-07-17 07:00:00  1772000.0  1788000.0  1762000.0  1786000.0   673.346772\n",
              "2022-07-17 08:00:00  1786000.0  1789000.0  1771000.0  1781000.0   665.278125\n",
              "2022-07-17 09:00:00  1781000.0  1820000.0  1779000.0  1792000.0  1764.201736\n",
              "2022-07-17 10:00:00  1793000.0  1798000.0  1747000.0  1760000.0  1135.720254\n",
              "2022-07-17 11:00:00  1760000.0  1776000.0  1756000.0  1767000.0   728.493829\n",
              "...                        ...        ...        ...        ...          ...\n",
              "2022-07-24 02:00:00  2014000.0  2019000.0  1985000.0  1994000.0  2780.671217\n",
              "2022-07-24 03:00:00  1992000.0  2011000.0  1980000.0  1993000.0  1592.214181\n",
              "2022-07-24 04:00:00  1993000.0  2012000.0  1983000.0  2008000.0  1888.651772\n",
              "2022-07-24 05:00:00  2008000.0  2027000.0  2007000.0  2022000.0  1405.292729\n",
              "2022-07-24 06:00:00  2023000.0  2028000.0  2018000.0  2019000.0   536.496810\n",
              "\n",
              "[168 rows x 5 columns]"
            ],
            "text/html": [
              "\n",
              "  <div id=\"df-3e0d37b9-1629-404e-b6dd-2297ea084d2e\">\n",
              "    <div class=\"colab-df-container\">\n",
              "      <div>\n",
              "<style scoped>\n",
              "    .dataframe tbody tr th:only-of-type {\n",
              "        vertical-align: middle;\n",
              "    }\n",
              "\n",
              "    .dataframe tbody tr th {\n",
              "        vertical-align: top;\n",
              "    }\n",
              "\n",
              "    .dataframe thead th {\n",
              "        text-align: right;\n",
              "    }\n",
              "</style>\n",
              "<table border=\"1\" class=\"dataframe\">\n",
              "  <thead>\n",
              "    <tr style=\"text-align: right;\">\n",
              "      <th></th>\n",
              "      <th>open</th>\n",
              "      <th>high</th>\n",
              "      <th>low</th>\n",
              "      <th>close</th>\n",
              "      <th>volume</th>\n",
              "    </tr>\n",
              "    <tr>\n",
              "      <th>time</th>\n",
              "      <th></th>\n",
              "      <th></th>\n",
              "      <th></th>\n",
              "      <th></th>\n",
              "      <th></th>\n",
              "    </tr>\n",
              "  </thead>\n",
              "  <tbody>\n",
              "    <tr>\n",
              "      <th>2022-07-17 07:00:00</th>\n",
              "      <td>1772000.0</td>\n",
              "      <td>1788000.0</td>\n",
              "      <td>1762000.0</td>\n",
              "      <td>1786000.0</td>\n",
              "      <td>673.346772</td>\n",
              "    </tr>\n",
              "    <tr>\n",
              "      <th>2022-07-17 08:00:00</th>\n",
              "      <td>1786000.0</td>\n",
              "      <td>1789000.0</td>\n",
              "      <td>1771000.0</td>\n",
              "      <td>1781000.0</td>\n",
              "      <td>665.278125</td>\n",
              "    </tr>\n",
              "    <tr>\n",
              "      <th>2022-07-17 09:00:00</th>\n",
              "      <td>1781000.0</td>\n",
              "      <td>1820000.0</td>\n",
              "      <td>1779000.0</td>\n",
              "      <td>1792000.0</td>\n",
              "      <td>1764.201736</td>\n",
              "    </tr>\n",
              "    <tr>\n",
              "      <th>2022-07-17 10:00:00</th>\n",
              "      <td>1793000.0</td>\n",
              "      <td>1798000.0</td>\n",
              "      <td>1747000.0</td>\n",
              "      <td>1760000.0</td>\n",
              "      <td>1135.720254</td>\n",
              "    </tr>\n",
              "    <tr>\n",
              "      <th>2022-07-17 11:00:00</th>\n",
              "      <td>1760000.0</td>\n",
              "      <td>1776000.0</td>\n",
              "      <td>1756000.0</td>\n",
              "      <td>1767000.0</td>\n",
              "      <td>728.493829</td>\n",
              "    </tr>\n",
              "    <tr>\n",
              "      <th>...</th>\n",
              "      <td>...</td>\n",
              "      <td>...</td>\n",
              "      <td>...</td>\n",
              "      <td>...</td>\n",
              "      <td>...</td>\n",
              "    </tr>\n",
              "    <tr>\n",
              "      <th>2022-07-24 02:00:00</th>\n",
              "      <td>2014000.0</td>\n",
              "      <td>2019000.0</td>\n",
              "      <td>1985000.0</td>\n",
              "      <td>1994000.0</td>\n",
              "      <td>2780.671217</td>\n",
              "    </tr>\n",
              "    <tr>\n",
              "      <th>2022-07-24 03:00:00</th>\n",
              "      <td>1992000.0</td>\n",
              "      <td>2011000.0</td>\n",
              "      <td>1980000.0</td>\n",
              "      <td>1993000.0</td>\n",
              "      <td>1592.214181</td>\n",
              "    </tr>\n",
              "    <tr>\n",
              "      <th>2022-07-24 04:00:00</th>\n",
              "      <td>1993000.0</td>\n",
              "      <td>2012000.0</td>\n",
              "      <td>1983000.0</td>\n",
              "      <td>2008000.0</td>\n",
              "      <td>1888.651772</td>\n",
              "    </tr>\n",
              "    <tr>\n",
              "      <th>2022-07-24 05:00:00</th>\n",
              "      <td>2008000.0</td>\n",
              "      <td>2027000.0</td>\n",
              "      <td>2007000.0</td>\n",
              "      <td>2022000.0</td>\n",
              "      <td>1405.292729</td>\n",
              "    </tr>\n",
              "    <tr>\n",
              "      <th>2022-07-24 06:00:00</th>\n",
              "      <td>2023000.0</td>\n",
              "      <td>2028000.0</td>\n",
              "      <td>2018000.0</td>\n",
              "      <td>2019000.0</td>\n",
              "      <td>536.496810</td>\n",
              "    </tr>\n",
              "  </tbody>\n",
              "</table>\n",
              "<p>168 rows × 5 columns</p>\n",
              "</div>\n",
              "      <button class=\"colab-df-convert\" onclick=\"convertToInteractive('df-3e0d37b9-1629-404e-b6dd-2297ea084d2e')\"\n",
              "              title=\"Convert this dataframe to an interactive table.\"\n",
              "              style=\"display:none;\">\n",
              "        \n",
              "  <svg xmlns=\"http://www.w3.org/2000/svg\" height=\"24px\"viewBox=\"0 0 24 24\"\n",
              "       width=\"24px\">\n",
              "    <path d=\"M0 0h24v24H0V0z\" fill=\"none\"/>\n",
              "    <path d=\"M18.56 5.44l.94 2.06.94-2.06 2.06-.94-2.06-.94-.94-2.06-.94 2.06-2.06.94zm-11 1L8.5 8.5l.94-2.06 2.06-.94-2.06-.94L8.5 2.5l-.94 2.06-2.06.94zm10 10l.94 2.06.94-2.06 2.06-.94-2.06-.94-.94-2.06-.94 2.06-2.06.94z\"/><path d=\"M17.41 7.96l-1.37-1.37c-.4-.4-.92-.59-1.43-.59-.52 0-1.04.2-1.43.59L10.3 9.45l-7.72 7.72c-.78.78-.78 2.05 0 2.83L4 21.41c.39.39.9.59 1.41.59.51 0 1.02-.2 1.41-.59l7.78-7.78 2.81-2.81c.8-.78.8-2.07 0-2.86zM5.41 20L4 18.59l7.72-7.72 1.47 1.35L5.41 20z\"/>\n",
              "  </svg>\n",
              "      </button>\n",
              "      \n",
              "  <style>\n",
              "    .colab-df-container {\n",
              "      display:flex;\n",
              "      flex-wrap:wrap;\n",
              "      gap: 12px;\n",
              "    }\n",
              "\n",
              "    .colab-df-convert {\n",
              "      background-color: #E8F0FE;\n",
              "      border: none;\n",
              "      border-radius: 50%;\n",
              "      cursor: pointer;\n",
              "      display: none;\n",
              "      fill: #1967D2;\n",
              "      height: 32px;\n",
              "      padding: 0 0 0 0;\n",
              "      width: 32px;\n",
              "    }\n",
              "\n",
              "    .colab-df-convert:hover {\n",
              "      background-color: #E2EBFA;\n",
              "      box-shadow: 0px 1px 2px rgba(60, 64, 67, 0.3), 0px 1px 3px 1px rgba(60, 64, 67, 0.15);\n",
              "      fill: #174EA6;\n",
              "    }\n",
              "\n",
              "    [theme=dark] .colab-df-convert {\n",
              "      background-color: #3B4455;\n",
              "      fill: #D2E3FC;\n",
              "    }\n",
              "\n",
              "    [theme=dark] .colab-df-convert:hover {\n",
              "      background-color: #434B5C;\n",
              "      box-shadow: 0px 1px 3px 1px rgba(0, 0, 0, 0.15);\n",
              "      filter: drop-shadow(0px 1px 2px rgba(0, 0, 0, 0.3));\n",
              "      fill: #FFFFFF;\n",
              "    }\n",
              "  </style>\n",
              "\n",
              "      <script>\n",
              "        const buttonEl =\n",
              "          document.querySelector('#df-3e0d37b9-1629-404e-b6dd-2297ea084d2e button.colab-df-convert');\n",
              "        buttonEl.style.display =\n",
              "          google.colab.kernel.accessAllowed ? 'block' : 'none';\n",
              "\n",
              "        async function convertToInteractive(key) {\n",
              "          const element = document.querySelector('#df-3e0d37b9-1629-404e-b6dd-2297ea084d2e');\n",
              "          const dataTable =\n",
              "            await google.colab.kernel.invokeFunction('convertToInteractive',\n",
              "                                                     [key], {});\n",
              "          if (!dataTable) return;\n",
              "\n",
              "          const docLinkHtml = 'Like what you see? Visit the ' +\n",
              "            '<a target=\"_blank\" href=https://colab.research.google.com/notebooks/data_table.ipynb>data table notebook</a>'\n",
              "            + ' to learn more about interactive tables.';\n",
              "          element.innerHTML = '';\n",
              "          dataTable['output_type'] = 'display_data';\n",
              "          await google.colab.output.renderOutput(dataTable, element);\n",
              "          const docLink = document.createElement('div');\n",
              "          docLink.innerHTML = docLinkHtml;\n",
              "          element.appendChild(docLink);\n",
              "        }\n",
              "      </script>\n",
              "    </div>\n",
              "  </div>\n",
              "  "
            ]
          },
          "metadata": {},
          "execution_count": 4
        }
      ]
    },
    {
      "cell_type": "code",
      "source": [
        "df = df.reset_index()\n",
        "\n",
        "# Get time (a) and close price (b)\n",
        "df['ds'] = df['time']\n",
        "df['y'] = df['close']\n",
        "data = df[['ds','y']]\n",
        "data"
      ],
      "metadata": {
        "id": "RouFV3Wb6Y8k",
        "colab": {
          "base_uri": "https://localhost:8080/",
          "height": 419
        },
        "outputId": "78156ccf-c5c8-4fdd-bcc7-d776108cacd4"
      },
      "execution_count": null,
      "outputs": [
        {
          "output_type": "execute_result",
          "data": {
            "text/plain": [
              "                     ds          y\n",
              "0   2022-07-17 07:00:00  1786000.0\n",
              "1   2022-07-17 08:00:00  1781000.0\n",
              "2   2022-07-17 09:00:00  1792000.0\n",
              "3   2022-07-17 10:00:00  1760000.0\n",
              "4   2022-07-17 11:00:00  1767000.0\n",
              "..                  ...        ...\n",
              "163 2022-07-24 02:00:00  1994000.0\n",
              "164 2022-07-24 03:00:00  1993000.0\n",
              "165 2022-07-24 04:00:00  2008000.0\n",
              "166 2022-07-24 05:00:00  2022000.0\n",
              "167 2022-07-24 06:00:00  2019000.0\n",
              "\n",
              "[168 rows x 2 columns]"
            ],
            "text/html": [
              "\n",
              "  <div id=\"df-6323e85f-7fa9-4573-b7e3-ae5202ce591c\">\n",
              "    <div class=\"colab-df-container\">\n",
              "      <div>\n",
              "<style scoped>\n",
              "    .dataframe tbody tr th:only-of-type {\n",
              "        vertical-align: middle;\n",
              "    }\n",
              "\n",
              "    .dataframe tbody tr th {\n",
              "        vertical-align: top;\n",
              "    }\n",
              "\n",
              "    .dataframe thead th {\n",
              "        text-align: right;\n",
              "    }\n",
              "</style>\n",
              "<table border=\"1\" class=\"dataframe\">\n",
              "  <thead>\n",
              "    <tr style=\"text-align: right;\">\n",
              "      <th></th>\n",
              "      <th>ds</th>\n",
              "      <th>y</th>\n",
              "    </tr>\n",
              "  </thead>\n",
              "  <tbody>\n",
              "    <tr>\n",
              "      <th>0</th>\n",
              "      <td>2022-07-17 07:00:00</td>\n",
              "      <td>1786000.0</td>\n",
              "    </tr>\n",
              "    <tr>\n",
              "      <th>1</th>\n",
              "      <td>2022-07-17 08:00:00</td>\n",
              "      <td>1781000.0</td>\n",
              "    </tr>\n",
              "    <tr>\n",
              "      <th>2</th>\n",
              "      <td>2022-07-17 09:00:00</td>\n",
              "      <td>1792000.0</td>\n",
              "    </tr>\n",
              "    <tr>\n",
              "      <th>3</th>\n",
              "      <td>2022-07-17 10:00:00</td>\n",
              "      <td>1760000.0</td>\n",
              "    </tr>\n",
              "    <tr>\n",
              "      <th>4</th>\n",
              "      <td>2022-07-17 11:00:00</td>\n",
              "      <td>1767000.0</td>\n",
              "    </tr>\n",
              "    <tr>\n",
              "      <th>...</th>\n",
              "      <td>...</td>\n",
              "      <td>...</td>\n",
              "    </tr>\n",
              "    <tr>\n",
              "      <th>163</th>\n",
              "      <td>2022-07-24 02:00:00</td>\n",
              "      <td>1994000.0</td>\n",
              "    </tr>\n",
              "    <tr>\n",
              "      <th>164</th>\n",
              "      <td>2022-07-24 03:00:00</td>\n",
              "      <td>1993000.0</td>\n",
              "    </tr>\n",
              "    <tr>\n",
              "      <th>165</th>\n",
              "      <td>2022-07-24 04:00:00</td>\n",
              "      <td>2008000.0</td>\n",
              "    </tr>\n",
              "    <tr>\n",
              "      <th>166</th>\n",
              "      <td>2022-07-24 05:00:00</td>\n",
              "      <td>2022000.0</td>\n",
              "    </tr>\n",
              "    <tr>\n",
              "      <th>167</th>\n",
              "      <td>2022-07-24 06:00:00</td>\n",
              "      <td>2019000.0</td>\n",
              "    </tr>\n",
              "  </tbody>\n",
              "</table>\n",
              "<p>168 rows × 2 columns</p>\n",
              "</div>\n",
              "      <button class=\"colab-df-convert\" onclick=\"convertToInteractive('df-6323e85f-7fa9-4573-b7e3-ae5202ce591c')\"\n",
              "              title=\"Convert this dataframe to an interactive table.\"\n",
              "              style=\"display:none;\">\n",
              "        \n",
              "  <svg xmlns=\"http://www.w3.org/2000/svg\" height=\"24px\"viewBox=\"0 0 24 24\"\n",
              "       width=\"24px\">\n",
              "    <path d=\"M0 0h24v24H0V0z\" fill=\"none\"/>\n",
              "    <path d=\"M18.56 5.44l.94 2.06.94-2.06 2.06-.94-2.06-.94-.94-2.06-.94 2.06-2.06.94zm-11 1L8.5 8.5l.94-2.06 2.06-.94-2.06-.94L8.5 2.5l-.94 2.06-2.06.94zm10 10l.94 2.06.94-2.06 2.06-.94-2.06-.94-.94-2.06-.94 2.06-2.06.94z\"/><path d=\"M17.41 7.96l-1.37-1.37c-.4-.4-.92-.59-1.43-.59-.52 0-1.04.2-1.43.59L10.3 9.45l-7.72 7.72c-.78.78-.78 2.05 0 2.83L4 21.41c.39.39.9.59 1.41.59.51 0 1.02-.2 1.41-.59l7.78-7.78 2.81-2.81c.8-.78.8-2.07 0-2.86zM5.41 20L4 18.59l7.72-7.72 1.47 1.35L5.41 20z\"/>\n",
              "  </svg>\n",
              "      </button>\n",
              "      \n",
              "  <style>\n",
              "    .colab-df-container {\n",
              "      display:flex;\n",
              "      flex-wrap:wrap;\n",
              "      gap: 12px;\n",
              "    }\n",
              "\n",
              "    .colab-df-convert {\n",
              "      background-color: #E8F0FE;\n",
              "      border: none;\n",
              "      border-radius: 50%;\n",
              "      cursor: pointer;\n",
              "      display: none;\n",
              "      fill: #1967D2;\n",
              "      height: 32px;\n",
              "      padding: 0 0 0 0;\n",
              "      width: 32px;\n",
              "    }\n",
              "\n",
              "    .colab-df-convert:hover {\n",
              "      background-color: #E2EBFA;\n",
              "      box-shadow: 0px 1px 2px rgba(60, 64, 67, 0.3), 0px 1px 3px 1px rgba(60, 64, 67, 0.15);\n",
              "      fill: #174EA6;\n",
              "    }\n",
              "\n",
              "    [theme=dark] .colab-df-convert {\n",
              "      background-color: #3B4455;\n",
              "      fill: #D2E3FC;\n",
              "    }\n",
              "\n",
              "    [theme=dark] .colab-df-convert:hover {\n",
              "      background-color: #434B5C;\n",
              "      box-shadow: 0px 1px 3px 1px rgba(0, 0, 0, 0.15);\n",
              "      filter: drop-shadow(0px 1px 2px rgba(0, 0, 0, 0.3));\n",
              "      fill: #FFFFFF;\n",
              "    }\n",
              "  </style>\n",
              "\n",
              "      <script>\n",
              "        const buttonEl =\n",
              "          document.querySelector('#df-6323e85f-7fa9-4573-b7e3-ae5202ce591c button.colab-df-convert');\n",
              "        buttonEl.style.display =\n",
              "          google.colab.kernel.accessAllowed ? 'block' : 'none';\n",
              "\n",
              "        async function convertToInteractive(key) {\n",
              "          const element = document.querySelector('#df-6323e85f-7fa9-4573-b7e3-ae5202ce591c');\n",
              "          const dataTable =\n",
              "            await google.colab.kernel.invokeFunction('convertToInteractive',\n",
              "                                                     [key], {});\n",
              "          if (!dataTable) return;\n",
              "\n",
              "          const docLinkHtml = 'Like what you see? Visit the ' +\n",
              "            '<a target=\"_blank\" href=https://colab.research.google.com/notebooks/data_table.ipynb>data table notebook</a>'\n",
              "            + ' to learn more about interactive tables.';\n",
              "          element.innerHTML = '';\n",
              "          dataTable['output_type'] = 'display_data';\n",
              "          await google.colab.output.renderOutput(dataTable, element);\n",
              "          const docLink = document.createElement('div');\n",
              "          docLink.innerHTML = docLinkHtml;\n",
              "          element.appendChild(docLink);\n",
              "        }\n",
              "      </script>\n",
              "    </div>\n",
              "  </div>\n",
              "  "
            ]
          },
          "metadata": {},
          "execution_count": 8
        }
      ]
    },
    {
      "cell_type": "code",
      "source": [
        "from fbprophet import Prophet"
      ],
      "metadata": {
        "id": "xqfP0a4D62gL"
      },
      "execution_count": null,
      "outputs": []
    },
    {
      "cell_type": "code",
      "source": [
        "# Machine Learning\n",
        "ai = Prophet()\n",
        "ai.fit(data)"
      ],
      "metadata": {
        "colab": {
          "base_uri": "https://localhost:8080/"
        },
        "id": "ischSdQv9ltT",
        "outputId": "57c3ac3a-2105-41ae-918c-02441c259a11"
      },
      "execution_count": null,
      "outputs": [
        {
          "output_type": "stream",
          "name": "stderr",
          "text": [
            "INFO:fbprophet:Disabling yearly seasonality. Run prophet with yearly_seasonality=True to override this.\n",
            "INFO:fbprophet:Disabling weekly seasonality. Run prophet with weekly_seasonality=True to override this.\n"
          ]
        },
        {
          "output_type": "execute_result",
          "data": {
            "text/plain": [
              "<fbprophet.forecaster.Prophet at 0x7f27ff938810>"
            ]
          },
          "metadata": {},
          "execution_count": 10
        }
      ]
    },
    {
      "cell_type": "code",
      "source": [
        "# Predict the next 24 hours of Ethereum price\n",
        "prediction = ai.make_future_dataframe(periods=24, freq='H')\n",
        "analysis = ai.predict(prediction)"
      ],
      "metadata": {
        "id": "sz7wrgKt9pdW"
      },
      "execution_count": null,
      "outputs": []
    },
    {
      "cell_type": "code",
      "source": [
        "graph1 = ai.plot(analysis)"
      ],
      "metadata": {
        "colab": {
          "base_uri": "https://localhost:8080/",
          "height": 441
        },
        "id": "rjlkLPgdDGZD",
        "outputId": "439ff92f-7a95-4baa-ce24-45bea2abb0da"
      },
      "execution_count": null,
      "outputs": [
        {
          "output_type": "display_data",
          "data": {
            "text/plain": [
              "<Figure size 720x432 with 1 Axes>"
            ],
            "image/png": "[encoded data removed]"
          },
          "metadata": {}
        }
      ]
    },
    {
      "cell_type": "code",
      "source": [
        "graph2 = ai.plot_components(analysis)"
      ],
      "metadata": {
        "colab": {
          "base_uri": "https://localhost:8080/",
          "height": 441
        },
        "id": "oyEocDDjDhm3",
        "outputId": "9d0779ad-ad72-46c2-a1c2-dbe1aae7d65d"
      },
      "execution_count": null,
      "outputs": [
        {
          "output_type": "display_data",
          "data": {
            "text/plain": [
              "<Figure size 648x432 with 2 Axes>"
            ],
            "image/png": "[encoded data removed]"
          },
          "metadata": {}
        }
      ]
    },
    {
      "cell_type": "code",
      "source": [
        "# vrn is value of the cryptocurrency right now\n",
        "vrn = pybithumb.get_current_price(crypto)\n",
        "vrn"
      ],
      "metadata": {
        "id": "Iof6yHWFDiYW",
        "colab": {
          "base_uri": "https://localhost:8080/"
        },
        "outputId": "62e3d68e-f228-4fe1-fd4f-6f08b0f3b011"
      },
      "execution_count": null,
      "outputs": [
        {
          "output_type": "execute_result",
          "data": {
            "text/plain": [
              "2015000.0"
            ]
          },
          "metadata": {},
          "execution_count": 14
        }
      ]
    },
    {
      "cell_type": "code",
      "source": [
        "# Find close price before 00:00 a.m.\n",
        "close_price = analysis[analysis['ds'] == analysis.iloc[-1]['ds'].replace(hour=9)]\n",
        "\n",
        "# Find close price after 00:00 a.m.\n",
        "if len(close_price) == 0:\n",
        "  close_price = analysis[analysis['ds'] == data.iloc[-1]['ds'].replace(hour=9)]\n",
        "\n",
        "# vcp is value of close price.\n",
        "vcp = close_price['yhat'].values[0]\n",
        "vcp"
      ],
      "metadata": {
        "colab": {
          "base_uri": "https://localhost:8080/"
        },
        "id": "CC26X_bjH5uR",
        "outputId": "74ed2313-47c9-446a-9c6a-cee9139aff47"
      },
      "execution_count": null,
      "outputs": [
        {
          "output_type": "execute_result",
          "data": {
            "text/plain": [
              "1990640.939905526"
            ]
          },
          "metadata": {},
          "execution_count": 15
        }
      ]
    },
    {
      "cell_type": "code",
      "source": [
        "# Conclusion of analysis\n",
        "print(\"Value of \" + crypto + \" right now\" + \" is \" + str(vrn))\n",
        "print(\"Value of \" + crypto + \" at close price\" + \" is \" + str(vcp))"
      ],
      "metadata": {
        "id": "qvpesbskIAOh",
        "outputId": "44ad43c4-c1be-4fe1-8490-e9b7132429e0",
        "colab": {
          "base_uri": "https://localhost:8080/"
        }
      },
      "execution_count": null,
      "outputs": [
        {
          "output_type": "stream",
          "name": "stdout",
          "text": [
            "Value of ETH right now is 2015000.0\n",
            "Value of ETH at close price is 1990640.939905526\n"
          ]
        }
      ]
    }
  ]
}